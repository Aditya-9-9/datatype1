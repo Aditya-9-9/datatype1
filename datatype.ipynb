{
  "nbformat": 4,
  "nbformat_minor": 0,
  "metadata": {
    "colab": {
      "provenance": []
    },
    "kernelspec": {
      "name": "python3",
      "display_name": "Python 3"
    },
    "language_info": {
      "name": "python"
    }
  },
  "cells": [
    {
      "cell_type": "markdown",
      "source": [
        "1.What are data structures, and why are they important?\n",
        " - Data structures are ways of organizing and storing data in a computer so that it can be accessed and modified efficiently.  \n",
        " - Data structures are essential because they provide efficient ways to organize, store, and manage data. The right data structure allows programs to perform tasks like searching, sorting, and updating quickly and effectively. They are crucial for building scalable applications, solving complex problems, and writing clean, optimized code. Without proper data structures, software can become slow, inefficient, and difficult to maintain.\n",
        "\n",
        "2.Explain the difference between mutable and immutable data types with examples?\n",
        " -  Mutable Data Types:\n",
        "    - Can be changed after creation.\n",
        "    - You can add, remove, or modify elements.\n",
        "     - Examples :list , dict (dictionary) ,  set\n",
        "   \n",
        " - Immutable Data Types:\n",
        "    - Cannot be changed once created.\n",
        "    - Any \"change\" creates a new object.\n",
        "    - Examples :int , float , str , tuple\n",
        "\n",
        "3.What are the main differences between lists and tuples in Python?\n",
        " - List:\n",
        "    - Mutable — You can change, add, or remove elements.\n",
        "    - list is faster then tuple.\n",
        " - Tuple:\n",
        "    - Immutable — Once created, it cannot be changed.\n",
        "    - tuple is slower then list.\n",
        "\n",
        "4.Describe how dictionaries store data?\n",
        " - Dictionaries in Python store data as key-value pairs, allowing for fast and efficient data retrieval. Each key in a dictionary is unique and immutable such as a string, number, or tuple, and is associated with a specific value that can be of any data type. Internally, Python uses a technique called hashing to convert keys into unique hash values which helps it quickly locate the corresponding value in memory. This makes accessing or updating data using a key extremely fast, usually in constant time. Dictionaries are ideal for situations where quick lookups, flexible data storage and clear associations between elements are needed.\n",
        "\n",
        "5.Why might you use a set instead of a list in Python?\n",
        " - We might use a set instead of a list in Python when you need to store unique items and don't care about their order.\n",
        "\n",
        "6.What is a string in Python, and how is it different from a list?\n",
        " - In Python, a string is a sequence of characters enclosed in quotes (' ' or \" \"), used to represent text.\n",
        " - A string is used for handling text and is immutable, while a list is a flexible collection of items that can be modified.\n",
        "\n",
        "7.How do tuples ensure data integrity in Python?\n",
        " - Tuples help ensure data integrity in Python by being immutable meaning their contents cannot be changed after creation. This immutability protects data from accidental modifications and makes tuples a reliable way to store fixed collections of values\n",
        " - Tuples ensure data integrity by locking in their values, making them ideal for storing fixed data that shouldn't change throughout the life of a program.\n",
        "\n",
        "8.What is a hash table, and how does it relate to dictionaries in Python?\n",
        " - A hash table is a data structure that stores data in key-value pairs, where each key is mapped to a specific value through a hash function. The hash function takes the key, performs some calculations, and converts it into a unique hash value (usually an integer) that determines the key’s position in the table. Hash tables allow for fast lookups, inserts, and deletions, typically with an average time complexity of O(1).\n",
        "\n",
        "9.Can lists contain different data types in Python?\n",
        " - Yes, lists in Python can contain different data types. Unlike many other programming languages that require elements of a list to be of the same type, Python allows lists to hold a mix of data types, such as integers, strings, floats, and even other lists or objects.\n",
        "\n",
        "10.Explain why strings are immutable in Python.\n",
        " - Strings in Python are immutable to optimize memory usage, ensure data integrity, make them hashable for use as dictionary keys, and improve performance. This immutability guarantees that once a string is created, it cannot be altered, making them safer and more predictable to work with.\n",
        "\n",
        "11.What advantages do dictionaries offer over lists for certain tasks?\n",
        " - Dictionaries offer faster lookups, efficient updates, key-value pair mappings, and better memory efficiency compared to lists. They are especially useful for tasks where you need to map unique keys to values, perform quick lookups, or store complex, nested data structures.\n",
        "\n",
        "12.Describe a scenario where using a tuple would be preferable over a list?\n",
        " - A scenario where using a tuple would be preferable over a list is when you need to store a fixed collection of values that should not be modified throughout the program.\n",
        " - For example, consider storing the coordinates of a location (latitude and longitude). Once these coordinates are set, they shouldn't change. Using a tuple in this case makes sense because it ensures data integrity by preventing accidental modifications and provides a clearer indication that the data is meant to be constant.\n",
        "\n",
        "13.How do sets handle duplicate values in Python?\n",
        " - In Python, sets automatically handle duplicate values by removing them. A set is a collection of unique elements, so if you try to add a duplicate value, it simply won’t be stored again. This ensures that each element in a set appears only once.\n",
        "\n",
        "14.How does the “in” keyword work differently for lists and dictionaries?\n",
        " - In Lists\n",
        "    - When using the \"in\" keyword with a list, Python checks if the element is present anywhere in the list. It performs a sequential search through the list, checking each element one by one. This is a linear search with a time complexity of O(n), where n is the length of the list.\n",
        " - In Dictionaries\n",
        "     - When using the \"in\" keyword with a dictionary, Python checks if the key is present in the dictionary, not the value. It performs the lookup by using the dictionary's hash table, which is typically much faster than a sequential search. This lookup operation is O(1) on average, making it very efficient.\n",
        "\n",
        "15.Can you modify the elements of a tuple? Explain why or why not?\n",
        " - No, you cannot modify the elements of a tuple once it has been created. This is because tuples are immutable in Python, meaning that their content cannot be changed after they are created. Once a tuple is assigned, its size and elements are fixed, and you cannot add, remove, or modify any of the elements directly.\n",
        "\n",
        "16.What is a nested dictionary, and give an example of its use case?\n",
        " - A nested dictionary is a dictionary where the value associated with a key can be another dictionary. This creates a hierarchical structure where you can store and retrieve data at multiple levels, which is useful for representing more complex relationships between data.\n",
        "   - Example:\n",
        "     - student_data = {\n",
        "    \"Alice\": {\"age\": 25, \"major\": \"Computer Science\", \"grades\": {\"math\": 90, \"english\": 85}},\n",
        "    \"Bob\": {\"age\": 22, \"major\": \"Physics\", \"grades\": {\"math\": 80, \"english\": 88}},\n",
        "    \"Charlie\": {\"age\": 23, \"major\": \"Biology\", \"grades\": {\"math\": 85, \"english\": 90}},\n",
        "}\n",
        "\n",
        "\n",
        "17.Describe the time complexity of accessing elements in a dictionary?\n",
        " - In Python, the time complexity of accessing elements in a dictionary is generally O(1) on average. This means that the time it takes to access a value associated with a given key is constant, regardless of the size of the dictionary. This efficiency is due to the underlying hash table implementation used by dictionaries.\n",
        "\n",
        "18. In what situations are lists preferred over dictionaries?\n",
        " - In Python, lists are preferred over dictionaries in situations where the order of the elements matters, and the collection consists of homogeneous or sequential data that doesn't require key-value mapping.\n",
        "   -  When You Need Ordered Data :\n",
        "Lists maintain the order of the elements, meaning the position of each element in the list is significant. If you need to store a sequence of items where order is important, such as a list of steps in a process, a collection of items to be processed sequentially, or an ordered series of events, lists are a natural choice.\n",
        "\n",
        "19.Why are dictionaries considered unordered, and how does that affect data retrieval?\n",
        " - Dictionaries are unordered because they use a hash table to store key-value pairs, and their primary goal is efficient key-value lookups, not maintaining order.\n",
        " - Data retrieval from dictionaries is not affected by order, as you retrieve data using keys, and the access time remains constant (O(1)) on average, regardless of insertion order.\n",
        "\n",
        "20.Explain the difference between a list and a dictionary in terms of data retrieval.\n",
        " - List: Data is accessed by index (position in the sequence). The order of elements in a list is important, and you retrieve an item using its index number (e.g., my_list[0] to access the first element). This is a sequential access, and the time complexity for accessing an element by index is O(1).\n",
        " - Dictionary: Data is accessed by key (unique identifier for each value). Each element in a dictionary is a key-value pair, and you retrieve a value using its associated key (e.g., my_dict[\"key\"]). This is a direct lookup via hashing, and the average time complexity for accessing an element by key is also O(1)."
      ],
      "metadata": {
        "id": "J325qoi0TQwi"
      }
    },
    {
      "cell_type": "code",
      "source": [
        "#Write a code to create a string with your name and print it.\n",
        "my_name = \"N.ADITYA\"\n",
        "print(my_name)"
      ],
      "metadata": {
        "colab": {
          "base_uri": "https://localhost:8080/"
        },
        "id": "mR8wP-4bc4E0",
        "outputId": "0153668c-9021-43af-d7d0-e4891ba7615b"
      },
      "execution_count": 1,
      "outputs": [
        {
          "output_type": "stream",
          "name": "stdout",
          "text": [
            "N.ADITYA\n"
          ]
        }
      ]
    },
    {
      "cell_type": "code",
      "source": [
        "#Write a code to find the length of the string \"Hello World\".\n",
        "my_string = \"Hello World\"\n",
        "length = len(my_string)\n",
        "print(length)"
      ],
      "metadata": {
        "colab": {
          "base_uri": "https://localhost:8080/"
        },
        "id": "E54H_m5xdNvb",
        "outputId": "e585a392-d98a-4e2b-d9a5-ee6c3b252598"
      },
      "execution_count": 2,
      "outputs": [
        {
          "output_type": "stream",
          "name": "stdout",
          "text": [
            "11\n"
          ]
        }
      ]
    },
    {
      "cell_type": "code",
      "source": [
        "#Write a code to slice the first 3 characters from the string \"Python Programming\".\n",
        "my_string = \"Python Programming\"\n",
        "sliced_string = my_string[:3]\n",
        "print(sliced_string)"
      ],
      "metadata": {
        "colab": {
          "base_uri": "https://localhost:8080/"
        },
        "id": "TG4j-QoVdaf0",
        "outputId": "71491311-6368-432f-8cd5-cc6028bf8b94"
      },
      "execution_count": 3,
      "outputs": [
        {
          "output_type": "stream",
          "name": "stdout",
          "text": [
            "Pyt\n"
          ]
        }
      ]
    },
    {
      "cell_type": "code",
      "source": [
        "#Write a code to convert the string \"hello\" to uppercase.\n",
        "my_string = \"hello\"\n",
        "uppercase_string = my_string.upper()\n",
        "print(uppercase_string)"
      ],
      "metadata": {
        "colab": {
          "base_uri": "https://localhost:8080/"
        },
        "id": "DvY6-E4FdlO3",
        "outputId": "e57f80b5-d796-41dd-eb50-a0ed483c26d8"
      },
      "execution_count": 4,
      "outputs": [
        {
          "output_type": "stream",
          "name": "stdout",
          "text": [
            "HELLO\n"
          ]
        }
      ]
    },
    {
      "cell_type": "code",
      "source": [
        "#Write a code to replace the word \"apple\" with \"orange\" in the string \"I like apple\".\n",
        "my_string = \"I like apple\"\n",
        "new_string = my_string.replace(\"apple\", \"orange\")\n",
        "print(new_string)"
      ],
      "metadata": {
        "colab": {
          "base_uri": "https://localhost:8080/"
        },
        "id": "504PsljHdxUR",
        "outputId": "fe978684-b930-4b9f-cdc6-7feb6e9432b6"
      },
      "execution_count": 5,
      "outputs": [
        {
          "output_type": "stream",
          "name": "stdout",
          "text": [
            "I like orange\n"
          ]
        }
      ]
    },
    {
      "cell_type": "code",
      "source": [
        "# Write a code to create a list with numbers 1 to 5 and print it.\n",
        "my_list = [1, 2, 3, 4, 5]\n",
        "print(my_list)"
      ],
      "metadata": {
        "colab": {
          "base_uri": "https://localhost:8080/"
        },
        "id": "EHOudgV8d83f",
        "outputId": "72866036-765a-4775-daf4-d7496e5eb197"
      },
      "execution_count": 6,
      "outputs": [
        {
          "output_type": "stream",
          "name": "stdout",
          "text": [
            "[1, 2, 3, 4, 5]\n"
          ]
        }
      ]
    },
    {
      "cell_type": "code",
      "source": [
        "#Write a code to append the number 10 to the list [1, 2, 3, 4].\n",
        "my_list = [1, 2, 3, 4]\n",
        "my_list.append(10)\n",
        "print(my_list)"
      ],
      "metadata": {
        "colab": {
          "base_uri": "https://localhost:8080/"
        },
        "id": "h3LU0wpoeGRf",
        "outputId": "d8c975bf-bc40-429b-d110-c8947ad4f22e"
      },
      "execution_count": 7,
      "outputs": [
        {
          "output_type": "stream",
          "name": "stdout",
          "text": [
            "[1, 2, 3, 4, 10]\n"
          ]
        }
      ]
    },
    {
      "cell_type": "code",
      "source": [
        "#Write a code to remove the number 3 from the list [1, 2, 3, 4, 5].\n",
        "my_list = [1, 2, 3, 4, 5]\n",
        "my_list.remove(3)\n",
        "print(my_list)"
      ],
      "metadata": {
        "colab": {
          "base_uri": "https://localhost:8080/"
        },
        "id": "G6Ou1MDueTmJ",
        "outputId": "b6abd1ec-ce0d-45e5-8981-103836bc7548"
      },
      "execution_count": 8,
      "outputs": [
        {
          "output_type": "stream",
          "name": "stdout",
          "text": [
            "[1, 2, 4, 5]\n"
          ]
        }
      ]
    },
    {
      "cell_type": "code",
      "source": [
        "#Write a code to access the second element in the list ['a', 'b', 'c', 'd'].\n",
        "my_list = ['a', 'b', 'c', 'd']\n",
        "second_element = my_list[1]\n",
        "print(second_element)"
      ],
      "metadata": {
        "colab": {
          "base_uri": "https://localhost:8080/"
        },
        "id": "9a0RSMecefUM",
        "outputId": "8bbf37bd-e5a1-43e7-8fcd-d14ea36f12ac"
      },
      "execution_count": 9,
      "outputs": [
        {
          "output_type": "stream",
          "name": "stdout",
          "text": [
            "b\n"
          ]
        }
      ]
    },
    {
      "cell_type": "code",
      "source": [
        "#Write a code to reverse the list [10, 20, 30, 40, 50].\n",
        "my_list = [10, 20, 30, 40, 50]\n",
        "reversed_list = my_list[::-1]\n",
        "print(reversed_list)"
      ],
      "metadata": {
        "colab": {
          "base_uri": "https://localhost:8080/"
        },
        "id": "CZrakYTzfwPP",
        "outputId": "5ce5a441-1fad-47fd-eef4-f7acc52f5d3f"
      },
      "execution_count": 10,
      "outputs": [
        {
          "output_type": "stream",
          "name": "stdout",
          "text": [
            "[50, 40, 30, 20, 10]\n"
          ]
        }
      ]
    },
    {
      "cell_type": "code",
      "source": [
        "#Write a code to create a tuple with the elements 100, 200, 300 and print it.\n",
        "my_tuple = (100, 200, 300)\n",
        "print(my_tuple)"
      ],
      "metadata": {
        "colab": {
          "base_uri": "https://localhost:8080/"
        },
        "id": "sIZFInkHf4_B",
        "outputId": "d00b1c34-b753-40fc-f2f1-5846fb26020c"
      },
      "execution_count": 11,
      "outputs": [
        {
          "output_type": "stream",
          "name": "stdout",
          "text": [
            "(100, 200, 300)\n"
          ]
        }
      ]
    },
    {
      "cell_type": "code",
      "source": [
        "#Write a code to access the second-to-last element of the tuple ('red', 'green', 'blue', 'yellow').\n",
        "my_tuple = ('red', 'green', 'blue', 'yellow')\n",
        "second_to_last_element = my_tuple[-2]\n",
        "print(second_to_last_element)"
      ],
      "metadata": {
        "colab": {
          "base_uri": "https://localhost:8080/"
        },
        "id": "S_QFdevCgMmV",
        "outputId": "1d63127d-7868-47b9-fd3b-fb3755f21827"
      },
      "execution_count": 12,
      "outputs": [
        {
          "output_type": "stream",
          "name": "stdout",
          "text": [
            "blue\n"
          ]
        }
      ]
    },
    {
      "cell_type": "code",
      "source": [
        "#Write a code to find the minimum number in the tuple (10, 20, 5, 15).\n",
        "my_tuple = (10, 20, 5, 15)\n",
        "min_number = min(my_tuple)\n",
        "print(min_number)"
      ],
      "metadata": {
        "colab": {
          "base_uri": "https://localhost:8080/"
        },
        "id": "brMn0klAgU_w",
        "outputId": "7ff82cdd-a5ba-45f8-a70b-e0ae1ed1e37f"
      },
      "execution_count": 13,
      "outputs": [
        {
          "output_type": "stream",
          "name": "stdout",
          "text": [
            "5\n"
          ]
        }
      ]
    },
    {
      "cell_type": "code",
      "source": [
        "#Write a code to find the index of the element \"cat\" in the tuple ('dog', 'cat', 'rabbit').\n",
        "my_tuple = ('dog', 'cat', 'rabbit')\n",
        "index_of_cat = my_tuple.index('cat')\n",
        "print(index_of_cat)"
      ],
      "metadata": {
        "colab": {
          "base_uri": "https://localhost:8080/"
        },
        "id": "SCHauJWSgcPZ",
        "outputId": "d8db3c70-4424-497d-ba7f-bb49025b74f2"
      },
      "execution_count": 14,
      "outputs": [
        {
          "output_type": "stream",
          "name": "stdout",
          "text": [
            "1\n"
          ]
        }
      ]
    },
    {
      "cell_type": "code",
      "source": [
        "#Write a code to create a tuple containing three different fruits and check if \"kiwi\" is in it.\n",
        "my_tuple = ('apple', 'banana', 'cherry')\n",
        "is_kiwi_in_tuple = 'kiwi' in my_tuple\n",
        "print(is_kiwi_in_tuple)"
      ],
      "metadata": {
        "colab": {
          "base_uri": "https://localhost:8080/"
        },
        "id": "Taf0PLzjglJH",
        "outputId": "3e9714e6-8d7f-4eee-9c93-9746c247f081"
      },
      "execution_count": 15,
      "outputs": [
        {
          "output_type": "stream",
          "name": "stdout",
          "text": [
            "False\n"
          ]
        }
      ]
    },
    {
      "cell_type": "code",
      "source": [
        "# Write a code to create a set with the elements 'a', 'b', 'c' and print it.\n",
        "my_set = {'a', 'b', 'c'}\n",
        "print(my_set)"
      ],
      "metadata": {
        "colab": {
          "base_uri": "https://localhost:8080/"
        },
        "id": "_Gixr4CQgxDI",
        "outputId": "f18b251b-633e-4e67-f350-09ee75ac71aa"
      },
      "execution_count": 16,
      "outputs": [
        {
          "output_type": "stream",
          "name": "stdout",
          "text": [
            "{'a', 'c', 'b'}\n"
          ]
        }
      ]
    },
    {
      "cell_type": "code",
      "source": [
        "#Write a code to clear all elements from the set {1, 2, 3, 4, 5}.\n",
        "my_set = {1, 2, 3, 4, 5}\n",
        "my_set.clear()\n",
        "print(my_set)"
      ],
      "metadata": {
        "colab": {
          "base_uri": "https://localhost:8080/"
        },
        "id": "Jfv1bm-Gg4mA",
        "outputId": "bab04f78-e50b-4c50-a9c1-3649f49a7647"
      },
      "execution_count": 17,
      "outputs": [
        {
          "output_type": "stream",
          "name": "stdout",
          "text": [
            "set()\n"
          ]
        }
      ]
    },
    {
      "cell_type": "code",
      "source": [
        "#Write a code to remove the element 4 from the set {1, 2, 3, 4}.\n",
        "my_set = {1, 2, 3, 4}\n",
        "my_set.remove(4)\n",
        "print(my_set)"
      ],
      "metadata": {
        "colab": {
          "base_uri": "https://localhost:8080/"
        },
        "id": "hQsdd8cThC-3",
        "outputId": "2b6a7104-3680-42d6-b66e-17f7921c52fd"
      },
      "execution_count": 18,
      "outputs": [
        {
          "output_type": "stream",
          "name": "stdout",
          "text": [
            "{1, 2, 3}\n"
          ]
        }
      ]
    },
    {
      "cell_type": "code",
      "source": [
        "#Write a code to find the union of two sets {1, 2, 3} and {3, 4, 5}.\n",
        "set1 = {1, 2, 3}\n",
        "set2 = {3, 4, 5}\n",
        "union_set = set1.union(set2)\n",
        "print(union_set)"
      ],
      "metadata": {
        "colab": {
          "base_uri": "https://localhost:8080/"
        },
        "id": "IG_Rb0OVhM_p",
        "outputId": "69f3a0c4-ad96-48ca-bba7-f432efb10ef7"
      },
      "execution_count": 19,
      "outputs": [
        {
          "output_type": "stream",
          "name": "stdout",
          "text": [
            "{1, 2, 3, 4, 5}\n"
          ]
        }
      ]
    },
    {
      "cell_type": "code",
      "source": [
        "#"
      ],
      "metadata": {
        "id": "9wholBnihoN7"
      },
      "execution_count": null,
      "outputs": []
    },
    {
      "cell_type": "code",
      "source": [
        "#Write a code to find the intersection of two sets {1, 2, 3} and {2, 3, 4}.\n",
        "set1 = {1, 2, 3}\n",
        "set2 = {2, 3, 4}\n",
        "intersection_set = set1.intersection(set2)\n",
        "print(intersection_set)"
      ],
      "metadata": {
        "colab": {
          "base_uri": "https://localhost:8080/"
        },
        "id": "pCUAzgDchT9i",
        "outputId": "3338a450-cdd6-42cd-d56a-b5bdd8ea4d2e"
      },
      "execution_count": 23,
      "outputs": [
        {
          "output_type": "stream",
          "name": "stdout",
          "text": [
            "{2, 3}\n"
          ]
        }
      ]
    },
    {
      "cell_type": "code",
      "source": [
        "#Write a code to create a dictionary with the keys \"name\", \"age\", and \"city\", and print it.\n",
        "my_dict = {\n",
        "    \"name\": \"Aditya\",\n",
        "    \"age\": 20,\n",
        "    \"city\": \"Berhampur\"\n",
        "}\n",
        "print(my_dict)"
      ],
      "metadata": {
        "colab": {
          "base_uri": "https://localhost:8080/"
        },
        "id": "0Chxuf17hxCP",
        "outputId": "ea90a5af-6354-4e81-f5c7-5d73495c0db1"
      },
      "execution_count": 24,
      "outputs": [
        {
          "output_type": "stream",
          "name": "stdout",
          "text": [
            "{'name': 'Aditya', 'age': 20, 'city': 'Berhampur'}\n"
          ]
        }
      ]
    },
    {
      "cell_type": "code",
      "source": [
        "#Write a code to add a new key-value pair \"country\": \"USA\" to the dictionary {'name': 'John', 'age': 25}.\n",
        "my_dict = {'name': 'John', 'age': 25}\n",
        "my_dict['country'] = 'USA'\n",
        "print(my_dict)"
      ],
      "metadata": {
        "colab": {
          "base_uri": "https://localhost:8080/"
        },
        "id": "fgCVaSSgiClp",
        "outputId": "341eedfd-c5f0-4a18-b522-959834ceda1c"
      },
      "execution_count": 25,
      "outputs": [
        {
          "output_type": "stream",
          "name": "stdout",
          "text": [
            "{'name': 'John', 'age': 25, 'country': 'USA'}\n"
          ]
        }
      ]
    },
    {
      "cell_type": "code",
      "source": [
        "#Write a code to access the value associated with the key \"name\" in the dictionary {'name': 'Alice', 'age': 30}.\n",
        "my_dict = {'name': 'Alice', 'age': 30}\n",
        "name_value = my_dict['name']\n",
        "print(name_value)"
      ],
      "metadata": {
        "colab": {
          "base_uri": "https://localhost:8080/"
        },
        "id": "Ihzgao1AiLhd",
        "outputId": "6003be3e-488d-4ee5-8dbb-e0b72279950a"
      },
      "execution_count": 26,
      "outputs": [
        {
          "output_type": "stream",
          "name": "stdout",
          "text": [
            "Alice\n"
          ]
        }
      ]
    },
    {
      "cell_type": "code",
      "source": [
        "#Write a code to remove the key \"age\" from the dictionary {'name': 'Bob', 'age': 22, 'city': 'New York'}.\n",
        "my_dict = {'name': 'Bob', 'age': 22, 'city': 'New York'}\n",
        "del my_dict['age']\n",
        "print(my_dict)"
      ],
      "metadata": {
        "colab": {
          "base_uri": "https://localhost:8080/"
        },
        "id": "9inpxNVmiT-a",
        "outputId": "98020312-2ae0-4d63-a4ff-c2beba1fa349"
      },
      "execution_count": 27,
      "outputs": [
        {
          "output_type": "stream",
          "name": "stdout",
          "text": [
            "{'name': 'Bob', 'city': 'New York'}\n"
          ]
        }
      ]
    },
    {
      "cell_type": "code",
      "source": [
        "#Write a code to check if the key \"city\" exists in the dictionary {'name': 'Alice', 'city': 'Paris'}.\n",
        "my_dict = {'name': 'Alice', 'city': 'Paris'}\n",
        "key_exists = 'city' in my_dict\n",
        "print(key_exists)"
      ],
      "metadata": {
        "colab": {
          "base_uri": "https://localhost:8080/"
        },
        "id": "Dw971_b8iboL",
        "outputId": "c73041a2-054d-4831-db02-0afe9a51c99a"
      },
      "execution_count": 28,
      "outputs": [
        {
          "output_type": "stream",
          "name": "stdout",
          "text": [
            "True\n"
          ]
        }
      ]
    },
    {
      "cell_type": "code",
      "source": [
        "#Write a code to create a list, a tuple, and a dictionary, and print them all.\n",
        "my_list = [1, 2, 3]\n",
        "my_tuple = ('apple', 'banana', 'cherry')\n",
        "my_dict = {'name': 'Alice', 'age': 25, 'city': 'Paris'}\n",
        "print(\"List:\", my_list)\n",
        "print(\"Tuple:\", my_tuple)\n",
        "print(\"Dictionary:\", my_dict)"
      ],
      "metadata": {
        "colab": {
          "base_uri": "https://localhost:8080/"
        },
        "id": "bn45VHYQii0v",
        "outputId": "919795e3-965e-45cc-85a7-23fd65421e53"
      },
      "execution_count": 29,
      "outputs": [
        {
          "output_type": "stream",
          "name": "stdout",
          "text": [
            "List: [1, 2, 3]\n",
            "Tuple: ('apple', 'banana', 'cherry')\n",
            "Dictionary: {'name': 'Alice', 'age': 25, 'city': 'Paris'}\n"
          ]
        }
      ]
    },
    {
      "cell_type": "code",
      "source": [
        "#Write a code to create a list of 5 random numbers between 1 and 100, sort it in ascending order, and print theresult.(replaced)\n",
        "import random\n",
        "random_numbers = [random.randint(1, 100) for _ in range(5)]\n",
        "random_numbers.sort()\n",
        "print(\"Sorted random numbers:\", random_numbers)"
      ],
      "metadata": {
        "colab": {
          "base_uri": "https://localhost:8080/"
        },
        "id": "kQA8o_Meiuql",
        "outputId": "5199babb-69c2-4e90-9b46-d18976811c1d"
      },
      "execution_count": 30,
      "outputs": [
        {
          "output_type": "stream",
          "name": "stdout",
          "text": [
            "Sorted random numbers: [25, 28, 52, 82, 100]\n"
          ]
        }
      ]
    },
    {
      "cell_type": "code",
      "source": [
        "#Write a code to create a list with strings and print the element at the third index.\n",
        "my_list = ['apple', 'banana', 'cherry', 'date', 'elderberry']\n",
        "print(my_list[3])"
      ],
      "metadata": {
        "colab": {
          "base_uri": "https://localhost:8080/"
        },
        "id": "EX3CWrr9jEnZ",
        "outputId": "512eae03-ccb2-403f-c1e7-a760ba4d1092"
      },
      "execution_count": 31,
      "outputs": [
        {
          "output_type": "stream",
          "name": "stdout",
          "text": [
            "date\n"
          ]
        }
      ]
    },
    {
      "cell_type": "code",
      "source": [
        "#Write a code to combine two dictionaries into one and print the result.\n",
        "dict1 = {'name': 'Aditya', 'age': 20}\n",
        "dict2 = {'city': 'Berhampur', 'country': 'India'}\n",
        "combined_dict = {**dict1, **dict2}\n",
        "print(combined_dict)"
      ],
      "metadata": {
        "colab": {
          "base_uri": "https://localhost:8080/"
        },
        "id": "mRBYD9rAjMbV",
        "outputId": "aa910e44-f61b-4b8e-9ab8-8e543bfd1753"
      },
      "execution_count": 33,
      "outputs": [
        {
          "output_type": "stream",
          "name": "stdout",
          "text": [
            "{'name': 'Aditya', 'age': 20, 'city': 'Berhampur', 'country': 'India'}\n"
          ]
        }
      ]
    },
    {
      "cell_type": "code",
      "source": [
        "#Write a code to convert a list of strings into a set.\n",
        "my_list = ['apple', 'banana', 'cherry', 'apple', 'banana']\n",
        "my_set = set(my_list)\n",
        "print(my_set)"
      ],
      "metadata": {
        "colab": {
          "base_uri": "https://localhost:8080/"
        },
        "id": "1Maocjszje5O",
        "outputId": "7f11982a-945d-4d26-f792-53c19aaa323a"
      },
      "execution_count": 34,
      "outputs": [
        {
          "output_type": "stream",
          "name": "stdout",
          "text": [
            "{'banana', 'apple', 'cherry'}\n"
          ]
        }
      ]
    }
  ]
}